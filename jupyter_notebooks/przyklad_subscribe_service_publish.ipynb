{
 "cells": [
  {
   "cell_type": "code",
   "execution_count": null,
   "id": "acaf005d",
   "metadata": {},
   "outputs": [],
   "source": [
    "### podstawowe przyklady do rozwiniecia\n",
    "\n",
    "\n",
    "import rclpy\n",
    "from rclpy.node import Node\n",
    "\n",
    "\n",
    "from geometry_msgs.msg import Twist\n",
    "\n",
    "from turtlesim.msg import Pose\n",
    "from turtlesim.srv import SetPen\n",
    "\n",
    "class TurtleMover(Node): #here we define new node\n",
    "\n",
    "    def __init__(self): \n",
    "        super().__init__('zolwik_przyklad')\n",
    "       \n",
    "        self.publisher_ = self.create_publisher(Twist, \n",
    "                                                'turtle1/cmd_vel',\n",
    "                                                10)\n",
    "\n",
    "        \n",
    "        \n",
    "        self.subscriber = turtle_mover.create_subscription(\n",
    "    Pose,\n",
    "    \"turtle1/pose\", self.subscription_callback,10) #tu subskrypcja na pozycje\n",
    "        \n",
    "\n",
    "    self.service_client = turtle_mover.create_client(SetPen,\n",
    "                            \"turtle1/set_pen\")\n",
    "\n",
    "\n",
    "    def subscription_callback(self,pose):\n",
    "        pass\n",
    "    \n",
    "    \n",
    "    def move_turtle(self,twist_command): #we add helper function\n",
    "        self.publisher_.publish(twist_command)\n",
    "\n",
    "\n",
    "    "
   ]
  },
  {
   "cell_type": "code",
   "execution_count": null,
   "id": "9f6052bc",
   "metadata": {},
   "outputs": [],
   "source": [
    "turtle_mover = TurtleMover()"
   ]
  },
  {
   "cell_type": "code",
   "execution_count": null,
   "id": "8d31c38f",
   "metadata": {},
   "outputs": [],
   "source": [
    "rclpy.spin(turtle_mover)"
   ]
  }
 ],
 "metadata": {
  "kernelspec": {
   "display_name": "Python 3 (ipykernel)",
   "language": "python",
   "name": "python3"
  },
  "language_info": {
   "codemirror_mode": {
    "name": "ipython",
    "version": 3
   },
   "file_extension": ".py",
   "mimetype": "text/x-python",
   "name": "python",
   "nbconvert_exporter": "python",
   "pygments_lexer": "ipython3",
   "version": "3.8.10"
  }
 },
 "nbformat": 4,
 "nbformat_minor": 5
}
